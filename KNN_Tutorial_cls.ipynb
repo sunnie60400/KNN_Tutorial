{
 "cells": [
  {
   "cell_type": "markdown",
   "metadata": {},
   "source": [
    "# KNN_Tutorial (cls)"
   ]
  },
  {
   "cell_type": "code",
   "execution_count": 1,
   "metadata": {},
   "outputs": [],
   "source": [
    "import pandas as pd\n",
    "import matplotlib.pyplot as plt\n",
    "%matplotlib inline\n",
    "from sklearn.datasets import load_breast_cancer\n",
    "from sklearn.model_selection import train_test_split\n",
    "from sklearn.neighbors import KNeighborsClassifier"
   ]
  },
  {
   "cell_type": "code",
   "execution_count": 2,
   "metadata": {
    "collapsed": true
   },
   "outputs": [],
   "source": [
    "cancer = load_breast_cancer()\n",
    "X_train, X_test, y_train, y_test = train_test_split(cancer.data, cancer.target)"
   ]
  },
  {
   "cell_type": "code",
   "execution_count": 3,
   "metadata": {},
   "outputs": [
    {
     "data": {
      "text/html": [
       "<div>\n",
       "<style>\n",
       "    .dataframe thead tr:only-child th {\n",
       "        text-align: right;\n",
       "    }\n",
       "\n",
       "    .dataframe thead th {\n",
       "        text-align: left;\n",
       "    }\n",
       "\n",
       "    .dataframe tbody tr th {\n",
       "        vertical-align: top;\n",
       "    }\n",
       "</style>\n",
       "<table border=\"1\" class=\"dataframe\">\n",
       "  <thead>\n",
       "    <tr style=\"text-align: right;\">\n",
       "      <th></th>\n",
       "      <th>0</th>\n",
       "      <th>1</th>\n",
       "      <th>2</th>\n",
       "      <th>3</th>\n",
       "      <th>4</th>\n",
       "      <th>5</th>\n",
       "      <th>6</th>\n",
       "      <th>7</th>\n",
       "      <th>8</th>\n",
       "      <th>9</th>\n",
       "    </tr>\n",
       "  </thead>\n",
       "  <tbody>\n",
       "    <tr>\n",
       "      <th>train_accurancy</th>\n",
       "      <td>1.000000</td>\n",
       "      <td>0.971831</td>\n",
       "      <td>0.953052</td>\n",
       "      <td>0.948357</td>\n",
       "      <td>0.946009</td>\n",
       "      <td>0.941315</td>\n",
       "      <td>0.938967</td>\n",
       "      <td>0.934272</td>\n",
       "      <td>0.936620</td>\n",
       "      <td>0.931925</td>\n",
       "    </tr>\n",
       "    <tr>\n",
       "      <th>test_accrancy</th>\n",
       "      <td>0.923077</td>\n",
       "      <td>0.916084</td>\n",
       "      <td>0.923077</td>\n",
       "      <td>0.923077</td>\n",
       "      <td>0.916084</td>\n",
       "      <td>0.930070</td>\n",
       "      <td>0.923077</td>\n",
       "      <td>0.930070</td>\n",
       "      <td>0.923077</td>\n",
       "      <td>0.937063</td>\n",
       "    </tr>\n",
       "  </tbody>\n",
       "</table>\n",
       "</div>"
      ],
      "text/plain": [
       "                        0         1         2         3         4         5  \\\n",
       "train_accurancy  1.000000  0.971831  0.953052  0.948357  0.946009  0.941315   \n",
       "test_accrancy    0.923077  0.916084  0.923077  0.923077  0.916084  0.930070   \n",
       "\n",
       "                        6         7         8         9  \n",
       "train_accurancy  0.938967  0.934272  0.936620  0.931925  \n",
       "test_accrancy    0.923077  0.930070  0.923077  0.937063  "
      ]
     },
     "execution_count": 3,
     "metadata": {},
     "output_type": "execute_result"
    }
   ],
   "source": [
    "train_accurancy = []\n",
    "test_accrancy = []\n",
    "n_list = range(1,11)\n",
    "\n",
    "for n in n_list:\n",
    "    knn = KNeighborsClassifier(n_neighbors=n).fit(X_train, y_train)\n",
    "    train_accurancy.append(knn.score(X_train, y_train))\n",
    "    test_accrancy.append(knn.score(X_test, y_test))\n",
    "df = pd.DataFrame(data=[train_accurancy, test_accrancy], index=['train_accurancy','test_accrancy'])\n",
    "df"
   ]
  },
  {
   "cell_type": "code",
   "execution_count": 4,
   "metadata": {},
   "outputs": [
    {
     "data": {
      "text/plain": [
       "<matplotlib.text.Text at 0x2c9d2b65198>"
      ]
     },
     "execution_count": 4,
     "metadata": {},
     "output_type": "execute_result"
    },
    {
     "data": {
      "image/png": "[encoded data removed]",
      "text/plain": [
       "<matplotlib.figure.Figure at 0x2c9d271a0b8>"
      ]
     },
     "metadata": {},
     "output_type": "display_data"
    }
   ],
   "source": [
    "plt.figure(figsize=(6,4))\n",
    "plt.plot(n_list, train_accurancy, label='train_accurancy')\n",
    "plt.plot(n_list, test_accrancy, label='test_accrancy', ls='--')\n",
    "plt.legend()\n",
    "plt.xlabel('Number of n')\n",
    "plt.ylabel('Accurancy')"
   ]
  }
 ],
 "metadata": {
  "kernelspec": {
   "display_name": "Python 3",
   "language": "python",
   "name": "python3"
  },
  "language_info": {
   "codemirror_mode": {
    "name": "ipython",
    "version": 3
   },
   "file_extension": ".py",
   "mimetype": "text/x-python",
   "name": "python",
   "nbconvert_exporter": "python",
   "pygments_lexer": "ipython3",
   "version": "3.6.1"
  }
 },
 "nbformat": 4,
 "nbformat_minor": 2
}
